{
 "cells": [
  {
   "cell_type": "markdown",
   "id": "2655aa38-91ef-431e-9684-3ecfa8ef0383",
   "metadata": {},
   "source": [
    "# Data Science Tools and Ecosystem"
   ]
  },
  {
   "cell_type": "markdown",
   "id": "0a332c72-3a50-4c49-86ba-f4a1ea44b935",
   "metadata": {},
   "source": [
    "In this notebook, Data Science Tools and Ecosystem are summarized"
   ]
  },
  {
   "cell_type": "markdown",
   "id": "82bc02a4-70b7-427d-b689-10756154b543",
   "metadata": {
    "tags": []
   },
   "source": [
    "<b>Objectives:</b>\n",
    "</ul>\n",
    "\n",
    "<li>Create a Jupyter Notebook with markdown and code cells</li>\n",
    "<li>List examples of languages, libraries and tools used in Data Science</li>\n",
    "<li>Share your Jupyter Notebook publicly on GitHub</li>\n",
    "<li>Evaluate notebooks submitted by your peers using the provided rubric</li>\n",
    "<li>Demonstrate proficiency in Data Science toolkit knowledge</li>\n",
    "</ol>    "
   ]
  },
  {
   "cell_type": "markdown",
   "id": "3395f0f6-a1b3-4d0f-8dfa-3ff2426b8c5e",
   "metadata": {
    "tags": []
   },
   "source": [
    "Some of the popular languages that Data Scientists use are:\n",
    "<ul>\n",
    "<li>Python</li>\n",
    "<li>R</li>\n",
    "<li>Scala</li>\n",
    "</ul>"
   ]
  },
  {
   "cell_type": "markdown",
   "id": "3c49a73e-b96b-4670-93cf-b4c51f9d0e3a",
   "metadata": {},
   "source": [
    "Some of the commonly used libraries used by Data Scientists include:\n",
    "\n",
    "<ol>\n",
    "<li>Pandas</li>\n",
    "<li>Keras</li>\n",
    "<li>Numpy</li>\n",
    "<li>PTorch</li>\n",
    "<li>Scipy</li>\n",
    "<li>Theano</li>\n",
    "\n",
    "</ol>"
   ]
  },
  {
   "cell_type": "markdown",
   "id": "e51462b4-1824-4866-ab89-6b9e6b89d1a0",
   "metadata": {},
   "source": [
    "<table ><tr><th >Data Science Tools<th>\n",
    "    <tr>\n",
    "<tr><td>VisualCode <td>\n",
    "    <tr><td>Notepad<td>\n",
    "        <tr><td>Rstudio<td>\n",
    "    <table>"
   ]
  },
  {
   "cell_type": "markdown",
   "id": "07641d5d-d8c7-4a79-9ce1-fd4e9f42d48d",
   "metadata": {},
   "source": [
    "### Below are a few examples of evaluating arithmetic expressions in Python"
   ]
  },
  {
   "cell_type": "code",
   "execution_count": 5,
   "id": "9c1aa3b9-5fe8-4deb-8d9b-eb864efda472",
   "metadata": {
    "tags": []
   },
   "outputs": [
    {
     "data": {
      "text/plain": [
       "17"
      ]
     },
     "execution_count": 5,
     "metadata": {},
     "output_type": "execute_result"
    }
   ],
   "source": [
    "#This a simple arithmetic expression to mutiply then add integers\n",
    "(3*4)+5\n"
   ]
  },
  {
   "cell_type": "code",
   "execution_count": 6,
   "id": "ca28c94e-2f18-4060-9266-930cd26e7502",
   "metadata": {
    "tags": []
   },
   "outputs": [
    {
     "data": {
      "text/plain": [
       "3.3333333333333335"
      ]
     },
     "execution_count": 6,
     "metadata": {},
     "output_type": "execute_result"
    }
   ],
   "source": [
    "#This will convert 200 minutes to hours by diving by 60.\n",
    "200/60"
   ]
  },
  {
   "cell_type": "markdown",
   "id": "9387b5cf-469a-45c1-a465-20d5791da12d",
   "metadata": {
    "tags": []
   },
   "source": [
    "## Author\n",
    "Fabricio Mejia Carazo"
   ]
  },
  {
   "cell_type": "code",
   "execution_count": null,
   "id": "32beaae3-da19-410f-80b2-5c9aa0d65686",
   "metadata": {},
   "outputs": [],
   "source": []
  }
 ],
 "metadata": {
  "kernelspec": {
   "display_name": "Python",
   "language": "python",
   "name": "conda-env-python-py"
  },
  "language_info": {
   "codemirror_mode": {
    "name": "ipython",
    "version": 3
   },
   "file_extension": ".py",
   "mimetype": "text/x-python",
   "name": "python",
   "nbconvert_exporter": "python",
   "pygments_lexer": "ipython3",
   "version": "3.7.12"
  }
 },
 "nbformat": 4,
 "nbformat_minor": 5
}
